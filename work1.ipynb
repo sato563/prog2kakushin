{
  "nbformat": 4,
  "nbformat_minor": 0,
  "metadata": {
    "colab": {
      "provenance": [],
      "authorship_tag": "ABX9TyPOV87efcw5iw9vZOq9UwVG",
      "include_colab_link": true
    },
    "kernelspec": {
      "name": "python3",
      "display_name": "Python 3"
    },
    "language_info": {
      "name": "python"
    }
  },
  "cells": [
    {
      "cell_type": "markdown",
      "metadata": {
        "id": "view-in-github",
        "colab_type": "text"
      },
      "source": [
        "<a href=\"https://colab.research.google.com/github/sato563/prog2kakushin/blob/main/work1.ipynb\" target=\"_parent\"><img src=\"https://colab.research.google.com/assets/colab-badge.svg\" alt=\"Open In Colab\"/></a>"
      ]
    },
    {
      "cell_type": "code",
      "execution_count": null,
      "metadata": {
        "id": "lQKB-m__N-7y"
      },
      "outputs": [],
      "source": [
        "import pandas as pd\n",
        "\n",
        "df = pd.DataFrame()\n",
        "\n",
        "si=int(input('身長：'))\n",
        "ta=int(input('体重：'))\n",
        "\n",
        "si_2=si/100\n",
        "bmi=ta/(si_2*si_2)\n",
        "bmi_2=format(ta/(si_2*si_2),'.1f')\n",
        "\n",
        "\n",
        "\n",
        "\n",
        "df['身長(cm)']=[si]\n",
        "df['体重(kg)']=[ta]\n",
        "df['BMI']=[bmi_2]\n",
        "df.index=['あなた']\n",
        "df\n",
        "\n",
        "if bmi<18.5:\n",
        "  print('あなたはやせ型です.')\n",
        "elif bmi>=25:\n",
        "  print('あなたは肥満体型です.')\n",
        "else:\n",
        "  print('あなたは標準的な体重です.')\n",
        "\n",
        "df_2 = pd.DataFrame([[20.5,20.8],[20.9,21.0],[21.3,21.2],[21.2,21.0],[21.3,20.9],[22.2,20.3],[22.6,20.1],[22.9,20.5],[23.1,20.5],[23.5,20.7],[23.5,20.7],[23.5,21.4],[23.6,21.6],[23.4,21.8],[23.1,22.2],[23.0,22.3]])\n",
        "df_2.index=[15,16,17,18,19,'20-24','25-29','30-34','35-39','40-44','45-49','50-54','55-59','60-64','65-69','70-74']\n",
        "df_2.columns=['男性','女性']\n",
        "\n",
        "\n",
        "\n",
        "x=input('あなたは男性ですか？女性ですか？：')\n",
        "print([15,16,17,18,19,'20-24','25-29','30-34','35-39','40-44','45-49','50-54','55-59','60-64','65-69','70-74'])\n",
        "y=int(input('この中であなたの年齢に最も近いものを入力してください:'))\n",
        "\n",
        "a=df_2.loc[y,x]-0.5\n",
        "b=df_2.loc[y,x]+0.5\n",
        "\n",
        "if a <= bmi <= b:\n",
        "  print('あなたの年齢では平均的な体重です.')\n",
        "elif bmi<a:\n",
        "  print('あなたの年齢では少しやせている方です.')\n",
        "else:\n",
        "  print('あなたの年齢では少し太っている方です.')\n",
        "\n",
        "df_2\n"
      ]
    }
  ]
}