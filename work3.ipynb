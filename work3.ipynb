{
  "nbformat": 4,
  "nbformat_minor": 0,
  "metadata": {
    "colab": {
      "provenance": [],
      "authorship_tag": "ABX9TyMlTtPJL+2y8bqmupRq5Wdc",
      "include_colab_link": true
    },
    "kernelspec": {
      "name": "python3",
      "display_name": "Python 3"
    },
    "language_info": {
      "name": "python"
    }
  },
  "cells": [
    {
      "cell_type": "markdown",
      "metadata": {
        "id": "view-in-github",
        "colab_type": "text"
      },
      "source": [
        "<a href=\"https://colab.research.google.com/github/sato563/prog2kakushin/blob/main/work3.ipynb\" target=\"_parent\"><img src=\"https://colab.research.google.com/assets/colab-badge.svg\" alt=\"Open In Colab\"/></a>"
      ]
    },
    {
      "cell_type": "markdown",
      "source": [
        "画像ファイルの取得のため,最初に一度下記のプログラムを実行してください．"
      ],
      "metadata": {
        "id": "b-izuxB0KYU0"
      }
    },
    {
      "cell_type": "code",
      "execution_count": 20,
      "metadata": {
        "id": "9KNgcp_AOfVH",
        "colab": {
          "base_uri": "https://localhost:8080/"
        },
        "outputId": "d9a28a39-5adb-45f1-b3fb-627856bd31c9"
      },
      "outputs": [
        {
          "output_type": "stream",
          "name": "stdout",
          "text": [
            "--2024-01-16 06:52:03--  https://drive.google.com/uc?export=download&id=1hsUauww6HMD9YMejBh72as9x9wNCWeBc\n",
            "Resolving drive.google.com (drive.google.com)... 209.85.146.138, 209.85.146.139, 209.85.146.113, ...\n",
            "Connecting to drive.google.com (drive.google.com)|209.85.146.138|:443... connected.\n",
            "HTTP request sent, awaiting response... 303 See Other\n",
            "Location: https://drive.usercontent.google.com/download?id=1hsUauww6HMD9YMejBh72as9x9wNCWeBc&export=download [following]\n",
            "--2024-01-16 06:52:03--  https://drive.usercontent.google.com/download?id=1hsUauww6HMD9YMejBh72as9x9wNCWeBc&export=download\n",
            "Resolving drive.usercontent.google.com (drive.usercontent.google.com)... 142.250.159.132, 2607:f8b0:4001:c58::84\n",
            "Connecting to drive.usercontent.google.com (drive.usercontent.google.com)|142.250.159.132|:443... connected.\n",
            "HTTP request sent, awaiting response... 200 OK\n",
            "Length: 391994 (383K) [application/octet-stream]\n",
            "Saving to: ‘images.zip’\n",
            "\n",
            "images.zip          100%[===================>] 382.81K  --.-KB/s    in 0.004s  \n",
            "\n",
            "2024-01-16 06:52:04 (96.5 MB/s) - ‘images.zip’ saved [391994/391994]\n",
            "\n",
            "Archive:  images.zip\n",
            " extracting: canal.jpg               \n",
            " extracting: desert.jpg              \n",
            " extracting: dog.jpg                 \n",
            " extracting: eagle.jpg               \n",
            " extracting: eagle_gray.jpg          \n",
            " extracting: flower.jpg              \n",
            " extracting: foods/green_pepper.jpg  \n",
            " extracting: foods/tomato/tomato01.jpg  \n",
            " extracting: foods/tomato/tomato02.jpg  \n",
            " extracting: fox.jpg                 \n",
            " extracting: ichidai.jpg             \n",
            " extracting: library.jpg             \n",
            " extracting: parrot.jpg              \n",
            " extracting: tools/driver.jpg        \n",
            " extracting: tools/nut.jpg           \n",
            " extracting: turtle.jpg              \n"
          ]
        }
      ],
      "source": [
        "!wget \"https://drive.google.com/uc?export=download&id=1hsUauww6HMD9YMejBh72as9x9wNCWeBc\" -O images.zip\n",
        "!unzip -o images.zip"
      ]
    },
    {
      "cell_type": "code",
      "source": [
        "import numpy as np\n",
        "import cv2, sys\n",
        "from google.colab.patches import cv2_imshow\n",
        "\n",
        "def comp_im(A, r):\n",
        "  rgb = A.shape[2]\n",
        "  compressed_im = np.ones((rgb, A.shape[0], A.shape[1]))\n",
        "\n",
        "  for n in range(rgb):\n",
        "     C = A[:, :, n]\n",
        "     U, s, V = np.linalg.svd(C, False)\n",
        "     for i in range(r):\n",
        "       compressed_im[n] += s[i] * U[:, i:i+1].dot(V[i:i+1, :])\n",
        "  return compressed_im.transpose(1, 2, 0)\n",
        "\n",
        "def main(r):\n",
        "  im = cv2.imread('foods/tomato/tomato01.jpg')\n",
        "  if im is None:\n",
        "    sys.exit('エラー: ファイルを開けませんでした')\n",
        "  compressed_im = comp_im(im, r)\n",
        "  cv2_imshow(compressed_im)\n",
        "\n",
        "\n",
        "\n",
        "\n",
        "print('【画像当てゲーム】')\n",
        "print('この画像はなにをあらわしているでしょう？')\n",
        "\n",
        "main(1)\n",
        "\n",
        "i=0\n",
        "while True:\n",
        "  answer=input('A.')\n",
        "  if answer=='トマト' or answer=='とまと':\n",
        "    main(200)\n",
        "    print('正解！！トマトでした～！')\n",
        "    break\n",
        "  elif i==0:\n",
        "    print('ざんねん😢ヒントは食べ物！')\n",
        "    i+=1\n",
        "  elif i>0:\n",
        "    main(7)\n",
        "    print('おしい！これでわかるかな？')\n",
        "\n"
      ],
      "metadata": {
        "id": "NRkxxO3t9ej8"
      },
      "execution_count": null,
      "outputs": []
    }
  ]
}